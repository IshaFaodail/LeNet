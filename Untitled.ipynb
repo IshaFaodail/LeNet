{
 "cells": [
  {
   "cell_type": "code",
   "execution_count": 1,
   "id": "28f01082",
   "metadata": {},
   "outputs": [],
   "source": [
    "##combine data\n"
   ]
  },
  {
   "cell_type": "code",
   "execution_count": 2,
   "id": "e84d05de",
   "metadata": {},
   "outputs": [
    {
     "name": "stdout",
     "output_type": "stream",
     "text": [
      "WARNING:tensorflow:From C:\\Users\\Hp\\AppData\\Roaming\\Python\\Python311\\site-packages\\keras\\src\\losses.py:2976: The name tf.losses.sparse_softmax_cross_entropy is deprecated. Please use tf.compat.v1.losses.sparse_softmax_cross_entropy instead.\n",
      "\n"
     ]
    }
   ],
   "source": [
    "import tensorflow as tf\n",
    "import matplotlib.pyplot as plt\n",
    "import numpy as np\n",
    "from scipy import linalg"
   ]
  },
  {
   "cell_type": "code",
   "execution_count": 3,
   "id": "46bb5a31",
   "metadata": {},
   "outputs": [],
   "source": [
    "#load the mnist dataset\n",
    "mnist = tf.keras.datasets.mnist\n",
    "\n",
    "(x_train, y_train), (x_test, y_test) = mnist.load_data()\n",
    "x_train, x_test = x_train / 255.0, x_test / 255.0\n",
    "\n",
    "# Add a channels dimension\n",
    "x_train = x_train[..., tf.newaxis].astype(\"float32\")\n",
    "x_test = x_test[..., tf.newaxis].astype(\"float32\")"
   ]
  },
  {
   "cell_type": "code",
   "execution_count": 4,
   "id": "ffa5f854",
   "metadata": {},
   "outputs": [
    {
     "data": {
      "text/plain": [
       "(60000, 28, 28, 1)"
      ]
     },
     "execution_count": 4,
     "metadata": {},
     "output_type": "execute_result"
    }
   ],
   "source": [
    "x_train.shape"
   ]
  },
  {
   "cell_type": "code",
   "execution_count": 5,
   "id": "73859bee",
   "metadata": {},
   "outputs": [
    {
     "data": {
      "text/plain": [
       "(28, 28, 1)"
      ]
     },
     "execution_count": 5,
     "metadata": {},
     "output_type": "execute_result"
    }
   ],
   "source": [
    "x_train[0].shape    "
   ]
  },
  {
   "cell_type": "code",
   "execution_count": 6,
   "id": "5b7f09f5",
   "metadata": {},
   "outputs": [
    {
     "data": {
      "text/plain": [
       "<matplotlib.image.AxesImage at 0x226e55ddb90>"
      ]
     },
     "execution_count": 6,
     "metadata": {},
     "output_type": "execute_result"
    },
    {
     "data": {
      "image/png": "[encoded data removed]",
      "text/plain": [
       "<Figure size 640x480 with 1 Axes>"
      ]
     },
     "metadata": {},
     "output_type": "display_data"
    }
   ],
   "source": [
    "x_traindata = x_train[0]     #visualising image\n",
    "plt.imshow(x_traindata)"
   ]
  },
  {
   "cell_type": "code",
   "execution_count": 7,
   "id": "2b224f05",
   "metadata": {},
   "outputs": [
    {
     "data": {
      "text/plain": [
       "(60000, 784)"
      ]
     },
     "execution_count": 7,
     "metadata": {},
     "output_type": "execute_result"
    }
   ],
   "source": [
    "x = x_train.reshape(60000, -1) \n",
    "x.shape"
   ]
  },
  {
   "cell_type": "code",
   "execution_count": 8,
   "id": "512cb484",
   "metadata": {},
   "outputs": [],
   "source": [
    "def standardise(X):\n",
    "    mean = np.sum(X, axis = 0)/X.shape[0] #mean by sum along pixels(features) and divide by no. of pixels(features)\n",
    "    Z = (X-mean)#standardise x by x - mean \n",
    "    print(mean.shape)\n",
    "    return Z, mean"
   ]
  },
  {
   "cell_type": "code",
   "execution_count": 9,
   "id": "d0625769",
   "metadata": {},
   "outputs": [
    {
     "name": "stdout",
     "output_type": "stream",
     "text": [
      "(784,)\n"
     ]
    },
    {
     "data": {
      "text/plain": [
       "(60000, 784)"
      ]
     },
     "execution_count": 9,
     "metadata": {},
     "output_type": "execute_result"
    }
   ],
   "source": [
    "z, mean = standardise(x)        #shape(10000, 784)\n",
    "z.shape"
   ]
  },
  {
   "cell_type": "code",
   "execution_count": 10,
   "id": "54e9a8b7",
   "metadata": {},
   "outputs": [],
   "source": [
    "Rz = np.dot(z.T, z)/z.shape[0]     #correlation matrix\n",
    "e, ev = linalg.eigh(Rz)    #eigen value and eigen vector calculation"
   ]
  },
  {
   "cell_type": "code",
   "execution_count": 11,
   "id": "f5e5f209",
   "metadata": {},
   "outputs": [
    {
     "data": {
      "text/plain": [
       "(784, 784)"
      ]
     },
     "execution_count": 11,
     "metadata": {},
     "output_type": "execute_result"
    }
   ],
   "source": [
    "ev.shape "
   ]
  },
  {
   "cell_type": "code",
   "execution_count": 12,
   "id": "50e05764",
   "metadata": {},
   "outputs": [],
   "source": [
    "e_index = np.argsort(e)[::-1]      #sorting eigen values and eigen vectors in descending order\n",
    "e_sorted = e[e_index]\n",
    "ev_sorted = ev[:, e_index]    "
   ]
  },
  {
   "cell_type": "code",
   "execution_count": 13,
   "id": "9eaf7198",
   "metadata": {},
   "outputs": [
    {
     "data": {
      "text/plain": [
       "(60000, 784)"
      ]
     },
     "execution_count": 13,
     "metadata": {},
     "output_type": "execute_result"
    }
   ],
   "source": [
    "p = np.dot(z, ev_sorted)       #projection matrix\n",
    "p.shape"
   ]
  },
  {
   "cell_type": "code",
   "execution_count": 14,
   "id": "60efe12d",
   "metadata": {},
   "outputs": [
    {
     "data": {
      "text/plain": [
       "(784, 784)"
      ]
     },
     "execution_count": 14,
     "metadata": {},
     "output_type": "execute_result"
    }
   ],
   "source": [
    "ev_sorted.shape"
   ]
  },
  {
   "cell_type": "code",
   "execution_count": null,
   "id": "e94a17eb",
   "metadata": {},
   "outputs": [],
   "source": []
  },
  {
   "cell_type": "code",
   "execution_count": 46,
   "id": "0dccc4c3",
   "metadata": {},
   "outputs": [],
   "source": [
    "result_x = []               # will store reconstructed x    \n",
    "\n",
    "ev_tilted = ev_sorted[:, :284]     #truncating eigen vector from 24, 44, .... in loop\n",
    "p_cap = np.dot(z, ev_tilted)     #projected matrix for truncated ev\n",
    "xnew_cap = np.dot(p_cap, ev_tilted.T)   #reconstructed images\n",
    "xx_cap = xnew_cap + mean         #adding mean corrosponding to it\n",
    "result_x.append(xx_cap)          #appending images to array"
   ]
  },
  {
   "cell_type": "code",
   "execution_count": 47,
   "id": "94458407",
   "metadata": {},
   "outputs": [],
   "source": [
    "result_xx = np.asarray(result_x)"
   ]
  },
  {
   "cell_type": "code",
   "execution_count": 48,
   "id": "5bafb470",
   "metadata": {},
   "outputs": [
    {
     "data": {
      "text/plain": [
       "(1, 60000, 784)"
      ]
     },
     "execution_count": 48,
     "metadata": {},
     "output_type": "execute_result"
    }
   ],
   "source": [
    "result_xx.shape"
   ]
  },
  {
   "cell_type": "code",
   "execution_count": 49,
   "id": "79231fe1",
   "metadata": {},
   "outputs": [],
   "source": [
    "im_final= []\n",
    "# fig = plt.figure(figsize= (50, 150))\n",
    "\n",
    "# ax = fig.add_subplot(15, 3, 1)\n",
    "for i in range(60000):\n",
    "    \n",
    "    im_final.append(result_xx[0][i].reshape(1, 28, 28))\n",
    "#     l2_norm.append(np.sqrt(np.sum(np.power((img_initial-im_final),2))))\n",
    "# diff = np.sum(np.power(img_initial-im_final, 2))\n",
    "# l2_norm.append(np.sqrt(diff))\n",
    "# ax.imshow(im_final, cmap='gray')\n",
    "# ax.set_title(\"p:\"+str(284), fontsize='40') "
   ]
  },
  {
   "cell_type": "code",
   "execution_count": 50,
   "id": "4f89f73c",
   "metadata": {},
   "outputs": [],
   "source": [
    "trainpca = np.asarray(im_final)"
   ]
  },
  {
   "cell_type": "code",
   "execution_count": 51,
   "id": "ae43e208",
   "metadata": {},
   "outputs": [
    {
     "data": {
      "text/plain": [
       "(60000, 1, 28, 28)"
      ]
     },
     "execution_count": 51,
     "metadata": {},
     "output_type": "execute_result"
    }
   ],
   "source": [
    "trainpca.shape"
   ]
  },
  {
   "cell_type": "code",
   "execution_count": 52,
   "id": "33d3444d",
   "metadata": {},
   "outputs": [
    {
     "data": {
      "text/plain": [
       "3"
      ]
     },
     "execution_count": 52,
     "metadata": {},
     "output_type": "execute_result"
    }
   ],
   "source": [
    "class_names = y_train\n",
    "class_names[10]"
   ]
  },
  {
   "cell_type": "code",
   "execution_count": 53,
   "id": "b28ccf06",
   "metadata": {},
   "outputs": [],
   "source": [
    "from torch.utils.data import Dataset, DataLoader, TensorDataset\n",
    "import torch"
   ]
  },
  {
   "cell_type": "code",
   "execution_count": 54,
   "id": "12ea07b7",
   "metadata": {},
   "outputs": [
    {
     "name": "stderr",
     "output_type": "stream",
     "text": [
      "C:\\Users\\Hp\\AppData\\Local\\Temp\\ipykernel_11060\\3308096686.py:4: UserWarning: To copy construct from a tensor, it is recommended to use sourceTensor.clone().detach() or sourceTensor.clone().detach().requires_grad_(True), rather than torch.tensor(sourceTensor).\n",
      "  y_test = torch.tensor(y_test)\n"
     ]
    }
   ],
   "source": [
    "X_train_pca = torch.tensor(trainpca)\n",
    "y_train_pca = torch.tensor(y_train)\n",
    "X_test = torch.tensor(x_test)\n",
    "y_test = torch.tensor(y_test)"
   ]
  },
  {
   "cell_type": "code",
   "execution_count": 55,
   "id": "1d27a3e1",
   "metadata": {},
   "outputs": [
    {
     "data": {
      "text/plain": [
       "(54000, 6000)"
      ]
     },
     "execution_count": 55,
     "metadata": {},
     "output_type": "execute_result"
    }
   ],
   "source": [
    "train_size = int(0.9 * len(X_train_pca))\n",
    "val_size = len(X_train_pca) - train_size\n",
    "train_size, val_size"
   ]
  },
  {
   "cell_type": "code",
   "execution_count": 56,
   "id": "1ea6e4ea",
   "metadata": {},
   "outputs": [],
   "source": [
    "train_val_dataset = TensorDataset(X_train_pca, y_train_pca)\n",
    "test_dataset = TensorDataset(X_test, y_test)"
   ]
  },
  {
   "cell_type": "code",
   "execution_count": 57,
   "id": "156649d4",
   "metadata": {},
   "outputs": [],
   "source": [
    "train_dataset, val_dataset = torch.utils.data.random_split(dataset=train_val_dataset, lengths=[train_size, val_size])"
   ]
  },
  {
   "cell_type": "code",
   "execution_count": 58,
   "id": "a1265b1a",
   "metadata": {},
   "outputs": [
    {
     "data": {
      "text/plain": [
       "(211, 24, 40)"
      ]
     },
     "execution_count": 58,
     "metadata": {},
     "output_type": "execute_result"
    }
   ],
   "source": [
    "from torch.utils.data import DataLoader\n",
    "\n",
    "BATCH_SIZE = 256\n",
    "\n",
    "train_dataloader = DataLoader(dataset=train_dataset, batch_size=BATCH_SIZE, shuffle=True)\n",
    "val_dataloader = DataLoader(dataset=val_dataset, batch_size=BATCH_SIZE, shuffle=True)\n",
    "test_dataloader = DataLoader(dataset=test_dataset, batch_size=BATCH_SIZE, shuffle=True)\n",
    "\n",
    "# Let's see no of batches that we have now with the current batch-size\n",
    "len(train_dataloader), len(val_dataloader), len(test_dataloader) "
   ]
  },
  {
   "cell_type": "code",
   "execution_count": 59,
   "id": "3bada38a",
   "metadata": {},
   "outputs": [
    {
     "name": "stdout",
     "output_type": "stream",
     "text": [
      "torch.Size([256, 1, 28, 28]) torch.Size([256])\n"
     ]
    }
   ],
   "source": [
    "for X, y in train_dataloader:\n",
    "    print(X.shape, y.shape)\n",
    "    break"
   ]
  },
  {
   "cell_type": "code",
   "execution_count": 60,
   "id": "78bc1f64",
   "metadata": {},
   "outputs": [],
   "source": [
    "from torch import nn\n",
    "\n",
    "class LeNet5V1(nn.Module):\n",
    "    def __init__(self):\n",
    "        super().__init__()\n",
    "        self.feature = nn.Sequential(\n",
    "            #1\n",
    "            nn.Conv2d(in_channels=1, out_channels=6, kernel_size=5, stride=1, padding=2),   # 28*28->32*32-->28*28\n",
    "            nn.Tanh(),\n",
    "            nn.AvgPool2d(kernel_size=2, stride=2),  # 14*14\n",
    "            \n",
    "            #2\n",
    "            nn.Conv2d(in_channels=6, out_channels=16, kernel_size=5, stride=1),  # 10*10\n",
    "            nn.Tanh(),\n",
    "            nn.AvgPool2d(kernel_size=2, stride=2),  # 5*5\n",
    "            \n",
    "        )\n",
    "        self.classifier = nn.Sequential(\n",
    "            nn.Flatten(),\n",
    "            nn.Linear(in_features=16*5*5, out_features=120),\n",
    "            nn.Tanh(),\n",
    "            nn.Linear(in_features=120, out_features=84),\n",
    "            nn.Tanh(),\n",
    "            nn.Linear(in_features=84, out_features=10),\n",
    "        )\n",
    "        \n",
    "    def forward(self, x):\n",
    "        return self.classifier(self.feature(x))"
   ]
  },
  {
   "cell_type": "code",
   "execution_count": 61,
   "id": "a56ba513",
   "metadata": {},
   "outputs": [
    {
     "data": {
      "text/plain": [
       "========================================================================================================================\n",
       "Layer (type (var_name))                  Input Shape          Output Shape         Param #              Trainable\n",
       "========================================================================================================================\n",
       "LeNet5V1 (LeNet5V1)                      [1, 1, 28, 28]       [1, 10]              --                   True\n",
       "├─Sequential (feature)                   [1, 1, 28, 28]       [1, 16, 5, 5]        --                   True\n",
       "│    └─Conv2d (0)                        [1, 1, 28, 28]       [1, 6, 28, 28]       156                  True\n",
       "│    └─Tanh (1)                          [1, 6, 28, 28]       [1, 6, 28, 28]       --                   --\n",
       "│    └─AvgPool2d (2)                     [1, 6, 28, 28]       [1, 6, 14, 14]       --                   --\n",
       "│    └─Conv2d (3)                        [1, 6, 14, 14]       [1, 16, 10, 10]      2,416                True\n",
       "│    └─Tanh (4)                          [1, 16, 10, 10]      [1, 16, 10, 10]      --                   --\n",
       "│    └─AvgPool2d (5)                     [1, 16, 10, 10]      [1, 16, 5, 5]        --                   --\n",
       "├─Sequential (classifier)                [1, 16, 5, 5]        [1, 10]              --                   True\n",
       "│    └─Flatten (0)                       [1, 16, 5, 5]        [1, 400]             --                   --\n",
       "│    └─Linear (1)                        [1, 400]             [1, 120]             48,120               True\n",
       "│    └─Tanh (2)                          [1, 120]             [1, 120]             --                   --\n",
       "│    └─Linear (3)                        [1, 120]             [1, 84]              10,164               True\n",
       "│    └─Tanh (4)                          [1, 84]              [1, 84]              --                   --\n",
       "│    └─Linear (5)                        [1, 84]              [1, 10]              850                  True\n",
       "========================================================================================================================\n",
       "Total params: 61,706\n",
       "Trainable params: 61,706\n",
       "Non-trainable params: 0\n",
       "Total mult-adds (Units.MEGABYTES): 0.42\n",
       "========================================================================================================================\n",
       "Input size (MB): 0.00\n",
       "Forward/backward pass size (MB): 0.05\n",
       "Params size (MB): 0.25\n",
       "Estimated Total Size (MB): 0.30\n",
       "========================================================================================================================"
      ]
     },
     "execution_count": 61,
     "metadata": {},
     "output_type": "execute_result"
    }
   ],
   "source": [
    "from torchinfo import summary\n",
    "model_lenet5v1 = LeNet5V1()\n",
    "summary(model=model_lenet5v1, input_size=(1, 1, 28, 28), col_width=20,\n",
    "                  col_names=['input_size', 'output_size', 'num_params', 'trainable'], row_settings=['var_names'], verbose=0)"
   ]
  },
  {
   "cell_type": "code",
   "execution_count": 62,
   "id": "815f60ba",
   "metadata": {},
   "outputs": [],
   "source": [
    "from torchmetrics import Accuracy\n",
    "\n",
    "loss_fn = nn.CrossEntropyLoss()\n",
    "optimizer = torch.optim.Adam(params=model_lenet5v1.parameters(), lr=0.001)\n",
    "accuracy = Accuracy(task='multiclass', num_classes=10)"
   ]
  },
  {
   "cell_type": "code",
   "execution_count": 63,
   "id": "633da908",
   "metadata": {},
   "outputs": [
    {
     "name": "stdout",
     "output_type": "stream",
     "text": [
      "Epoch: 0| Train loss:  0.59833| Train acc:  0.82818| Val loss:  0.23732| Val acc:  0.93378\n",
      "Epoch: 1| Train loss:  0.17747| Train acc:  0.94612| Val loss:  0.14693| Val acc:  0.95880\n",
      "Epoch: 2| Train loss:  0.11599| Train acc:  0.96543| Val loss:  0.10414| Val acc:  0.96901\n",
      "Epoch: 3| Train loss:  0.08573| Train acc:  0.97340| Val loss:  0.09108| Val acc:  0.97447\n",
      "Epoch: 4| Train loss:  0.06840| Train acc:  0.97880| Val loss:  0.07823| Val acc:  0.97831\n",
      "Epoch: 5| Train loss:  0.05445| Train acc:  0.98289| Val loss:  0.06407| Val acc:  0.98207\n",
      "Epoch: 6| Train loss:  0.04644| Train acc:  0.98574| Val loss:  0.06260| Val acc:  0.98319\n",
      "Epoch: 7| Train loss:  0.03911| Train acc:  0.98796| Val loss:  0.06923| Val acc:  0.98049\n",
      "Epoch: 8| Train loss:  0.03437| Train acc:  0.98945| Val loss:  0.06080| Val acc:  0.98249\n",
      "Epoch: 9| Train loss:  0.02978| Train acc:  0.99096| Val loss:  0.05465| Val acc:  0.98477\n",
      "Epoch: 10| Train loss:  0.02553| Train acc:  0.99248| Val loss:  0.05251| Val acc:  0.98596\n",
      "Epoch: 11| Train loss:  0.02128| Train acc:  0.99372| Val loss:  0.05547| Val acc:  0.98505\n",
      "Epoch: 12| Train loss:  0.01897| Train acc:  0.99472| Val loss:  0.05670| Val acc:  0.98424\n",
      "Epoch: 13| Train loss:  0.01662| Train acc:  0.99495| Val loss:  0.05197| Val acc:  0.98514\n",
      "Epoch: 14| Train loss:  0.01468| Train acc:  0.99589| Val loss:  0.05072| Val acc:  0.98486\n",
      "Epoch: 15| Train loss:  0.01256| Train acc:  0.99637| Val loss:  0.05630| Val acc:  0.98468\n",
      "Epoch: 16| Train loss:  0.01134| Train acc:  0.99685| Val loss:  0.05220| Val acc:  0.98498\n",
      "Epoch: 17| Train loss:  0.00979| Train acc:  0.99722| Val loss:  0.05958| Val acc:  0.98189\n",
      "Epoch: 18| Train loss:  0.01009| Train acc:  0.99717| Val loss:  0.05364| Val acc:  0.98547\n",
      "Epoch: 19| Train loss:  0.00756| Train acc:  0.99807| Val loss:  0.05287| Val acc:  0.98693\n",
      "Epoch: 20| Train loss:  0.00617| Train acc:  0.99844| Val loss:  0.05189| Val acc:  0.98698\n",
      "Epoch: 21| Train loss:  0.00566| Train acc:  0.99852| Val loss:  0.05549| Val acc:  0.98547\n",
      "Epoch: 22| Train loss:  0.00517| Train acc:  0.99883| Val loss:  0.05579| Val acc:  0.98624\n",
      "Epoch: 23| Train loss:  0.00618| Train acc:  0.99822| Val loss:  0.05898| Val acc:  0.98593\n",
      "Epoch: 24| Train loss:  0.00461| Train acc:  0.99891| Val loss:  0.05633| Val acc:  0.98633\n",
      "Epoch: 25| Train loss:  0.00691| Train acc:  0.99776| Val loss:  0.05792| Val acc:  0.98542\n",
      "Epoch: 26| Train loss:  0.00569| Train acc:  0.99830| Val loss:  0.06375| Val acc:  0.98396\n",
      "Epoch: 27| Train loss:  0.00517| Train acc:  0.99861| Val loss:  0.06673| Val acc:  0.98363\n",
      "Epoch: 28| Train loss:  0.00627| Train acc:  0.99817| Val loss:  0.06206| Val acc:  0.98779\n",
      "Epoch: 29| Train loss:  0.00297| Train acc:  0.99932| Val loss:  0.05644| Val acc:  0.98730\n",
      "Epoch: 30| Train loss:  0.00287| Train acc:  0.99924| Val loss:  0.06330| Val acc:  0.98563\n",
      "Epoch: 31| Train loss:  0.00192| Train acc:  0.99954| Val loss:  0.05553| Val acc:  0.98861\n",
      "Epoch: 32| Train loss:  0.00135| Train acc:  0.99978| Val loss:  0.05393| Val acc:  0.98861\n",
      "Epoch: 33| Train loss:  0.00069| Train acc:  0.99993| Val loss:  0.05393| Val acc:  0.98954\n",
      "Epoch: 34| Train loss:  0.00172| Train acc:  0.99952| Val loss:  0.06170| Val acc:  0.98710\n",
      "Epoch: 35| Train loss:  0.01606| Train acc:  0.99474| Val loss:  0.06882| Val acc:  0.98424\n",
      "Epoch: 36| Train loss:  0.00734| Train acc:  0.99759| Val loss:  0.06441| Val acc:  0.98644\n",
      "Epoch: 37| Train loss:  0.00313| Train acc:  0.99906| Val loss:  0.05983| Val acc:  0.98726\n",
      "Epoch: 38| Train loss:  0.00062| Train acc:  0.99998| Val loss:  0.05977| Val acc:  0.98749\n",
      "Epoch: 39| Train loss:  0.00039| Train acc:  1.00000| Val loss:  0.06000| Val acc:  0.98803\n",
      "Epoch: 40| Train loss:  0.00025| Train acc:  1.00000| Val loss:  0.05732| Val acc:  0.98942\n",
      "Epoch: 41| Train loss:  0.00020| Train acc:  1.00000| Val loss:  0.05769| Val acc:  0.98926\n",
      "Epoch: 42| Train loss:  0.00018| Train acc:  1.00000| Val loss:  0.06202| Val acc:  0.98847\n",
      "Epoch: 43| Train loss:  0.00016| Train acc:  1.00000| Val loss:  0.05904| Val acc:  0.98905\n",
      "Epoch: 44| Train loss:  0.00014| Train acc:  1.00000| Val loss:  0.06221| Val acc:  0.98847\n",
      "Epoch: 45| Train loss:  0.00012| Train acc:  1.00000| Val loss:  0.06130| Val acc:  0.98830\n",
      "Epoch: 46| Train loss:  0.00011| Train acc:  1.00000| Val loss:  0.05886| Val acc:  0.98910\n",
      "Epoch: 47| Train loss:  0.00010| Train acc:  1.00000| Val loss:  0.05952| Val acc:  0.98893\n",
      "Epoch: 48| Train loss:  0.00009| Train acc:  1.00000| Val loss:  0.06535| Val acc:  0.98810\n",
      "Epoch: 49| Train loss:  0.00008| Train acc:  1.00000| Val loss:  0.06082| Val acc:  0.98884\n"
     ]
    }
   ],
   "source": [
    "from torch.utils.tensorboard import SummaryWriter\n",
    "import os\n",
    "EPOCHS = 50\n",
    "TLOSS = [] ## to store the the train loss after each epoch\n",
    "TACC = []  ## to store the the train accurancy after each epoch\n",
    "VLOSS = [] \n",
    "VACC = []\n",
    "for epoch in range(EPOCHS):\n",
    "    # Training loop\n",
    "    train_loss, train_acc = 0.0, 0.0\n",
    "    for X, y in train_dataloader:\n",
    "        \n",
    "        model_lenet5v1.train()\n",
    "        \n",
    "        y_pred = model_lenet5v1(X)\n",
    "        \n",
    "        loss = loss_fn(y_pred, y)\n",
    "        train_loss += loss.item()\n",
    "        \n",
    "        acc = accuracy(y_pred, y)\n",
    "        train_acc += acc\n",
    "        \n",
    "        optimizer.zero_grad()\n",
    "        loss.backward()\n",
    "        optimizer.step()\n",
    "        \n",
    "    train_loss /= len(train_dataloader)\n",
    "    train_acc /= len(train_dataloader)\n",
    "    TLOSS.append(train_loss)\n",
    "    TACC.append(train_acc)\n",
    "    # Validation loop\n",
    "    val_loss, val_acc = 0.0, 0.0\n",
    "    model_lenet5v1.eval()\n",
    "    with torch.inference_mode():\n",
    "        for X, y in val_dataloader:\n",
    "            \n",
    "            y_pred = model_lenet5v1(X)\n",
    "            \n",
    "            loss = loss_fn(y_pred, y)\n",
    "            val_loss += loss.item()\n",
    "            \n",
    "            acc = accuracy(y_pred, y)\n",
    "            val_acc += acc\n",
    "            \n",
    "        val_loss /= len(val_dataloader)\n",
    "        val_acc /= len(val_dataloader)\n",
    "        VLOSS.append(val_loss)\n",
    "        VACC.append(val_acc)\n",
    " \n",
    "    print(f\"Epoch: {epoch}| Train loss: {train_loss: .5f}| Train acc: {train_acc: .5f}| Val loss: {val_loss: .5f}| Val acc: {val_acc: .5f}\")"
   ]
  },
  {
   "cell_type": "code",
   "execution_count": null,
   "id": "cbd9f169",
   "metadata": {},
   "outputs": [],
   "source": []
  },
  {
   "cell_type": "code",
   "execution_count": null,
   "id": "5dc9a445",
   "metadata": {},
   "outputs": [],
   "source": []
  }
 ],
 "metadata": {
  "kernelspec": {
   "display_name": "Python 3 (ipykernel)",
   "language": "python",
   "name": "python3"
  },
  "language_info": {
   "codemirror_mode": {
    "name": "ipython",
    "version": 3
   },
   "file_extension": ".py",
   "mimetype": "text/x-python",
   "name": "python",
   "nbconvert_exporter": "python",
   "pygments_lexer": "ipython3",
   "version": "3.11.3"
  }
 },
 "nbformat": 4,
 "nbformat_minor": 5
}
